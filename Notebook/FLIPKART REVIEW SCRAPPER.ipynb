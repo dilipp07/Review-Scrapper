{
 "cells": [
  {
   "cell_type": "code",
   "execution_count": 14,
   "id": "5c869fe7",
   "metadata": {},
   "outputs": [],
   "source": [
    "from flask import Flask , render_template,request,jsonify\n",
    "from flask_cors import CORS,cross_origin\n",
    "import requests\n",
    "from bs4 import BeautifulSoup as bs\n",
    "from urllib.request import urlopen as uReq"
   ]
  },
  {
   "cell_type": "code",
   "execution_count": 15,
   "id": "204d690d",
   "metadata": {},
   "outputs": [],
   "source": [
    "searchstring='iphone11'"
   ]
  },
  {
   "cell_type": "code",
   "execution_count": 16,
   "id": "856858b6",
   "metadata": {},
   "outputs": [],
   "source": [
    "flipkart_url=\"https://www.flipkart.com/search?q=\"+searchstring"
   ]
  },
  {
   "cell_type": "code",
   "execution_count": 17,
   "id": "2c514a4b",
   "metadata": {},
   "outputs": [
    {
     "data": {
      "text/plain": [
       "'https://www.flipkart.com/search?q=iphone11'"
      ]
     },
     "execution_count": 17,
     "metadata": {},
     "output_type": "execute_result"
    }
   ],
   "source": [
    "flipkart_url"
   ]
  },
  {
   "cell_type": "code",
   "execution_count": 18,
   "id": "a3151911",
   "metadata": {},
   "outputs": [
    {
     "data": {
      "text/plain": [
       "<http.client.HTTPResponse at 0x2c88c9eca90>"
      ]
     },
     "execution_count": 18,
     "metadata": {},
     "output_type": "execute_result"
    }
   ],
   "source": [
    "uclient=uReq(flipkart_url)\n",
    "uclient"
   ]
  },
  {
   "cell_type": "code",
   "execution_count": 19,
   "id": "52389e73",
   "metadata": {},
   "outputs": [],
   "source": [
    "flipkart_page=uclient.read()"
   ]
  },
  {
   "cell_type": "code",
   "execution_count": 20,
   "id": "9403b930",
   "metadata": {},
   "outputs": [],
   "source": [
    "flipkart_html=bs(flipkart_page,'html.parser')"
   ]
  },
  {
   "cell_type": "code",
   "execution_count": 24,
   "id": "5597874b",
   "metadata": {},
   "outputs": [],
   "source": [
    "bigboxes=flipkart_html.find_all(\"div\",{\"class\":\"_1AtVbE col-12-12\"})"
   ]
  },
  {
   "cell_type": "code",
   "execution_count": 25,
   "id": "eb06d646",
   "metadata": {},
   "outputs": [
    {
     "data": {
      "text/plain": [
       "30"
      ]
     },
     "execution_count": 25,
     "metadata": {},
     "output_type": "execute_result"
    }
   ],
   "source": [
    "len(bigboxes)"
   ]
  },
  {
   "cell_type": "code",
   "execution_count": 29,
   "id": "7c5744fe",
   "metadata": {},
   "outputs": [],
   "source": [
    "box=bigboxes[2]"
   ]
  },
  {
   "cell_type": "code",
   "execution_count": 35,
   "id": "1408346b",
   "metadata": {},
   "outputs": [],
   "source": [
    "productlink=\"https://www.flipkart.com/search?q=\"+box.div.div.div.a['href']\n"
   ]
  },
  {
   "cell_type": "code",
   "execution_count": 36,
   "id": "dd266a99",
   "metadata": {},
   "outputs": [],
   "source": [
    "productreq=requests.get(productlink)"
   ]
  },
  {
   "cell_type": "code",
   "execution_count": 37,
   "id": "89c15539",
   "metadata": {},
   "outputs": [
    {
     "data": {
      "text/plain": [
       "<Response [200]>"
      ]
     },
     "execution_count": 37,
     "metadata": {},
     "output_type": "execute_result"
    }
   ],
   "source": [
    "productreq"
   ]
  },
  {
   "cell_type": "code",
   "execution_count": 40,
   "id": "3c727284",
   "metadata": {},
   "outputs": [],
   "source": [
    "prod_html=bs(productreq.text,'html.parser')"
   ]
  },
  {
   "cell_type": "code",
   "execution_count": 42,
   "id": "2d896426",
   "metadata": {},
   "outputs": [],
   "source": [
    "commentbox=prod_html.find_all(\"div\",{\"class\":\"_16PBlm\"})"
   ]
  },
  {
   "cell_type": "code",
   "execution_count": 43,
   "id": "65f5f45a",
   "metadata": {},
   "outputs": [
    {
     "data": {
      "text/plain": [
       "11"
      ]
     },
     "execution_count": 43,
     "metadata": {},
     "output_type": "execute_result"
    }
   ],
   "source": [
    "len(commentbox)"
   ]
  },
  {
   "cell_type": "code",
   "execution_count": 48,
   "id": "0e233807",
   "metadata": {},
   "outputs": [
    {
     "name": "stdout",
     "output_type": "stream",
     "text": [
      "5\n",
      "5\n",
      "5\n",
      "4\n",
      "5\n",
      "5\n",
      "4\n",
      "5\n",
      "5\n",
      "5\n"
     ]
    },
    {
     "ename": "AttributeError",
     "evalue": "'NoneType' object has no attribute 'div'",
     "output_type": "error",
     "traceback": [
      "\u001b[1;31m---------------------------------------------------------------------------\u001b[0m",
      "\u001b[1;31mAttributeError\u001b[0m                            Traceback (most recent call last)",
      "Cell \u001b[1;32mIn[48], line 3\u001b[0m\n\u001b[0;32m      1\u001b[0m \u001b[38;5;28;01mfor\u001b[39;00m i \u001b[38;5;129;01min\u001b[39;00m commentbox:\n\u001b[1;32m----> 3\u001b[0m     \u001b[38;5;28mprint\u001b[39m(\u001b[43mi\u001b[49m\u001b[38;5;241;43m.\u001b[39;49m\u001b[43mdiv\u001b[49m\u001b[38;5;241;43m.\u001b[39;49m\u001b[43mdiv\u001b[49m\u001b[38;5;241m.\u001b[39mdiv\u001b[38;5;241m.\u001b[39mdiv\u001b[38;5;241m.\u001b[39mtext)\n",
      "\u001b[1;31mAttributeError\u001b[0m: 'NoneType' object has no attribute 'div'"
     ]
    }
   ],
   "source": [
    "for i in commentbox:\n",
    "    \n",
    "    print(i.div.div.div.div.text)\n"
   ]
  },
  {
   "cell_type": "code",
   "execution_count": 61,
   "id": "07ddf0b4",
   "metadata": {},
   "outputs": [
    {
     "data": {
      "text/plain": [
       "'Really satisfied with the Product I received... It’s totally genuine and the packaging was also really good so if ur planning to buy just go for it.'"
      ]
     },
     "execution_count": 61,
     "metadata": {},
     "output_type": "execute_result"
    }
   ],
   "source": [
    "commentbox[0].div.div.find_all(\"div\",{\"class\":\"\"})[0].div.text\n"
   ]
  },
  {
   "cell_type": "code",
   "execution_count": 64,
   "id": "a9df7ed9",
   "metadata": {},
   "outputs": [
    {
     "name": "stdout",
     "output_type": "stream",
     "text": [
      "Really satisfied with the Product I received... It’s totally genuine and the packaging was also really good so if ur planning to buy just go for it.\n",
      "\n",
      "\n",
      "Amazing phone with great cameras and better battery which gives you the best performance. I just love the camera .\n",
      "\n",
      "\n",
      "Great iPhone very snappy experience as apple kind. Upgraded from iPhone 7. Pros-Camera top class - Battery top performed -Chipset no need to say as apple kind -Security as you expect from apple - Display super bright industry leading colour   accuracy and super responsive -Build quality as expect from apple sturdy  premium durable beautiful stylish. -Os most stable os in smartphone industry Cons -No 5G-Display is not based on OLED technology -Charger headphones and 1 apple stic...\n",
      "\n",
      "\n",
      "I'm Really happy with the productDelivery was fast as well..it was a gift for my sister and she loved it so much.\n",
      "\n",
      "\n",
      "It's my first time to use iOS phone and I am loving my upgradation 😍😍 I love the color, I love the assebility of the phone....I need to learn more about its functionality, but as far as I have seen, it's quite easy and it has a lot of functions to work on, specially if you are a content writer or a blogger you get a lot of content creation platforms and they are really amazing. This phone not only for good quality photography but a lot of other task too.😍💯\n",
      "\n",
      "\n",
      "Previously I was using one plus 3t it was a great phone And then I decided to upgrade I am stuck between Samsung s10 plus or iPhone 11 I have seen the specs and everything were good except the display it’s somewhere between 720-1080 and it’s not even an amoled it’s an LCD display But I decided to go with iPhone because I have never used an IOS device I have Been an android user from the past 9 years I ordered IPhone 11 (128gb) product redMy experience after using 3 weeks 1. The delivery ...\n",
      "\n",
      "\n",
      "I was using Iphone 6s and also Oneplus 6t. Both mobiles were perfectly alright in Photos, gaming, and smooth interface . My 6s mobile getting battery issue. thought upgrade to 11. Really like this mobile of its Internal storage (compare to 6s) , camera and its touch feeling. Its a worth buying mobile for me.\n",
      "\n",
      "\n",
      "Value for money5 star rating Excellent cameraBattery backup full day in single charge.Tougher and water resistant design, glossy back.The screen has excellent brightness and contrast.Apple A13 Bionic is the fastest smartphone chip on the planet.Excellent battery life, fast charging support.Stereo speakers with great quality.\n",
      "\n",
      "\n",
      "What a camera .....just awesome ..you can feel this iPhone just awesome . Good for gaming also ...try pubg in hd it’s just wow\n",
      "\n",
      "\n",
      "Amazing Powerful and Durable Gadget.I’m am very happy with the camera picture quality, Amazing face id unlocked in dark room, Strong battery with perfect screen size as you can carry easily in pocket. This is my third iPhone. I shifted from android Samsung Note series to iPhone because of the strong build quality and peace of mind for next 3-4 years.Don’t think to much just go for it and I suggest you to go for minimum 128gb variant or more 256gb. I’ve attached my puppy pics and no fi...\n",
      "\n",
      "\n"
     ]
    },
    {
     "ename": "AttributeError",
     "evalue": "'NoneType' object has no attribute 'div'",
     "output_type": "error",
     "traceback": [
      "\u001b[1;31m---------------------------------------------------------------------------\u001b[0m",
      "\u001b[1;31mAttributeError\u001b[0m                            Traceback (most recent call last)",
      "Cell \u001b[1;32mIn[64], line 2\u001b[0m\n\u001b[0;32m      1\u001b[0m \u001b[38;5;28;01mfor\u001b[39;00m i \u001b[38;5;129;01min\u001b[39;00m commentbox:\n\u001b[1;32m----> 2\u001b[0m     \u001b[38;5;28mprint\u001b[39m(\u001b[43mi\u001b[49m\u001b[38;5;241;43m.\u001b[39;49m\u001b[43mdiv\u001b[49m\u001b[38;5;241;43m.\u001b[39;49m\u001b[43mdiv\u001b[49m\u001b[38;5;241m.\u001b[39mfind_all(\u001b[38;5;124m\"\u001b[39m\u001b[38;5;124mdiv\u001b[39m\u001b[38;5;124m\"\u001b[39m,{\u001b[38;5;124m\"\u001b[39m\u001b[38;5;124mclass\u001b[39m\u001b[38;5;124m\"\u001b[39m:\u001b[38;5;124m\"\u001b[39m\u001b[38;5;124m\"\u001b[39m})[\u001b[38;5;241m0\u001b[39m]\u001b[38;5;241m.\u001b[39mdiv\u001b[38;5;241m.\u001b[39mtext)\n\u001b[0;32m      3\u001b[0m     \u001b[38;5;28mprint\u001b[39m(\u001b[38;5;124m\"\u001b[39m\u001b[38;5;130;01m\\n\u001b[39;00m\u001b[38;5;124m\"\u001b[39m)\n",
      "\u001b[1;31mAttributeError\u001b[0m: 'NoneType' object has no attribute 'div'"
     ]
    }
   ],
   "source": [
    "for i in commentbox:\n",
    "    print(i.div.div.find_all(\"div\",{\"class\":\"\"})[0].div.text)\n",
    "    print(\"\\n\")"
   ]
  },
  {
   "cell_type": "code",
   "execution_count": 93,
   "id": "91006ae1",
   "metadata": {},
   "outputs": [
    {
     "data": {
      "text/plain": [
       "'Vamshi  Chakrala '"
      ]
     },
     "execution_count": 93,
     "metadata": {},
     "output_type": "execute_result"
    }
   ],
   "source": [
    "commentbox[5].div.div.find_all(\"p\",{\"class\":\"_2sc7ZR _2V5EHH\"})[0].text\n"
   ]
  },
  {
   "cell_type": "code",
   "execution_count": 94,
   "id": "96ae2aba",
   "metadata": {},
   "outputs": [
    {
     "name": "stdout",
     "output_type": "stream",
     "text": [
      "Flipkart Customer\n",
      "Flipkart Customer\n",
      "Manish Raghuvanshi\n",
      "George Haokip\n",
      "Jimly  Gogoi\n",
      "Vamshi  Chakrala \n",
      "vijay hegde\n",
      "Chirag Rajput\n",
      "Vishal Dubey\n",
      "Rahul Verma\n"
     ]
    },
    {
     "ename": "AttributeError",
     "evalue": "'NoneType' object has no attribute 'div'",
     "output_type": "error",
     "traceback": [
      "\u001b[1;31m---------------------------------------------------------------------------\u001b[0m",
      "\u001b[1;31mAttributeError\u001b[0m                            Traceback (most recent call last)",
      "Cell \u001b[1;32mIn[94], line 2\u001b[0m\n\u001b[0;32m      1\u001b[0m \u001b[38;5;28;01mfor\u001b[39;00m i \u001b[38;5;129;01min\u001b[39;00m commentbox:\n\u001b[1;32m----> 2\u001b[0m     \u001b[38;5;28mprint\u001b[39m(\u001b[43mi\u001b[49m\u001b[38;5;241;43m.\u001b[39;49m\u001b[43mdiv\u001b[49m\u001b[38;5;241;43m.\u001b[39;49m\u001b[43mdiv\u001b[49m\u001b[38;5;241m.\u001b[39mfind_all(\u001b[38;5;124m\"\u001b[39m\u001b[38;5;124mp\u001b[39m\u001b[38;5;124m\"\u001b[39m,{\u001b[38;5;124m\"\u001b[39m\u001b[38;5;124mclass\u001b[39m\u001b[38;5;124m\"\u001b[39m:\u001b[38;5;124m\"\u001b[39m\u001b[38;5;124m_2sc7ZR _2V5EHH\u001b[39m\u001b[38;5;124m\"\u001b[39m})[\u001b[38;5;241m0\u001b[39m]\u001b[38;5;241m.\u001b[39mtext)\n",
      "\u001b[1;31mAttributeError\u001b[0m: 'NoneType' object has no attribute 'div'"
     ]
    }
   ],
   "source": [
    "for i in commentbox:\n",
    "    print(i.div.div.find_all(\"p\",{\"class\":\"_2sc7ZR _2V5EHH\"})[0].text)"
   ]
  },
  {
   "cell_type": "code",
   "execution_count": null,
   "id": "6f14db19",
   "metadata": {},
   "outputs": [],
   "source": []
  }
 ],
 "metadata": {
  "kernelspec": {
   "display_name": "Python 3 (ipykernel)",
   "language": "python",
   "name": "python3"
  },
  "language_info": {
   "codemirror_mode": {
    "name": "ipython",
    "version": 3
   },
   "file_extension": ".py",
   "mimetype": "text/x-python",
   "name": "python",
   "nbconvert_exporter": "python",
   "pygments_lexer": "ipython3",
   "version": "3.10.9"
  }
 },
 "nbformat": 4,
 "nbformat_minor": 5
}
